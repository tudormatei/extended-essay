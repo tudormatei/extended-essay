{
 "cells": [
  {
   "cell_type": "code",
   "execution_count": 1,
   "id": "34b004cc",
   "metadata": {},
   "outputs": [],
   "source": [
    "data_dir = './/data//'"
   ]
  },
  {
   "cell_type": "code",
   "execution_count": 2,
   "id": "3666690f",
   "metadata": {},
   "outputs": [],
   "source": [
    "import numpy as np\n",
    "import pandas as pd"
   ]
  },
  {
   "cell_type": "code",
   "execution_count": 3,
   "id": "6e24be1f",
   "metadata": {},
   "outputs": [],
   "source": [
    "train = pd.read_csv(data_dir + 'train.csv')"
   ]
  },
  {
   "cell_type": "code",
   "execution_count": 16,
   "id": "2915b6b8",
   "metadata": {},
   "outputs": [],
   "source": [
    "width = int(np.mean(train['Width'].to_numpy()))"
   ]
  },
  {
   "cell_type": "code",
   "execution_count": 17,
   "id": "c8e7a59b",
   "metadata": {},
   "outputs": [],
   "source": [
    "height = int(np.mean(train['Height'].to_numpy()))"
   ]
  },
  {
   "cell_type": "code",
   "execution_count": 18,
   "id": "5046f70f",
   "metadata": {},
   "outputs": [],
   "source": [
    "channels = 3 #rgb\n",
    "image_shape = (height, width, channels)"
   ]
  },
  {
   "cell_type": "code",
   "execution_count": 19,
   "id": "1b7c87ee",
   "metadata": {},
   "outputs": [
    {
     "data": {
      "text/plain": [
       "(50, 50, 3)"
      ]
     },
     "execution_count": 19,
     "metadata": {},
     "output_type": "execute_result"
    }
   ],
   "source": [
    "image_shape"
   ]
  },
  {
   "cell_type": "code",
   "execution_count": 63,
   "id": "1557210b",
   "metadata": {},
   "outputs": [],
   "source": [
    "from matplotlib.image import imread\n",
    "import os\n",
    "from PIL import Image\n",
    "\n",
    "images = []\n",
    "labels = []\n",
    "\n",
    "classes = os.listdir(data_dir + 'train')\n",
    "\n",
    "for c in classes:\n",
    "    imgs_path = data_dir + 'train//' + c\n",
    "    \n",
    "    for img in os.listdir(imgs_path):\n",
    "        img_full_path = data_dir + 'train//' + c + '//' + img\n",
    "        img_arr = imread(img_full_path)\n",
    "        img_from_array = Image.fromarray(img_arr, 'RGB')\n",
    "        img = img_from_array.resize(image_shape[:2])\n",
    "        \n",
    "        images.append(np.array(img)/255)\n",
    "        labels.append(int(c))\n",
    "    \n",
    "x = np.array(images)\n",
    "y = np.array(labels)"
   ]
  },
  {
   "cell_type": "code",
   "execution_count": 65,
   "id": "a0df8065",
   "metadata": {},
   "outputs": [
    {
     "name": "stdout",
     "output_type": "stream",
     "text": [
      "Labels: (39209,) \n",
      "Images: (39209, 50, 50, 3)\n"
     ]
    }
   ],
   "source": [
    "print(f\"Labels: {y.shape} \\nImages: {x.shape}\")"
   ]
  }
 ],
 "metadata": {
  "kernelspec": {
   "display_name": "Python 3 (ipykernel)",
   "language": "python",
   "name": "python3"
  },
  "language_info": {
   "codemirror_mode": {
    "name": "ipython",
    "version": 3
   },
   "file_extension": ".py",
   "mimetype": "text/x-python",
   "name": "python",
   "nbconvert_exporter": "python",
   "pygments_lexer": "ipython3",
   "version": "3.7.11"
  }
 },
 "nbformat": 4,
 "nbformat_minor": 5
}
